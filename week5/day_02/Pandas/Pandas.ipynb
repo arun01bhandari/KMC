{
 "cells": [
  {
   "cell_type": "code",
   "execution_count": 1,
   "id": "5f39c673-a959-480c-9a63-e95ad7427f70",
   "metadata": {},
   "outputs": [],
   "source": [
    "import numpy as np \r\n",
    "import pandas as pd"
   ]
  },
  {
   "cell_type": "code",
   "execution_count": 3,
   "id": "dfbdb752-3253-4678-8f0f-92172d1f132e",
   "metadata": {},
   "outputs": [
    {
     "name": "stdout",
     "output_type": "stream",
     "text": [
      "0    10\n",
      "1    20\n",
      "2    30\n",
      "3    40\n",
      "4    50\n",
      "dtype: int64\n"
     ]
    }
   ],
   "source": [
    "data = [10,20,30,40,50]\n",
    "data_series = pd.Series(data)\n",
    "print(data_series)"
   ]
  },
  {
   "cell_type": "code",
   "execution_count": 4,
   "id": "df8c401c-d89a-4b10-8b78-ecbd74453443",
   "metadata": {},
   "outputs": [
    {
     "name": "stdout",
     "output_type": "stream",
     "text": [
      "<class 'pandas.core.series.Series'>\n"
     ]
    }
   ],
   "source": [
    "print(type(data_series))"
   ]
  },
  {
   "cell_type": "code",
   "execution_count": 14,
   "id": "bd690bc3-83b6-45ad-9c3b-8bebad5e95e6",
   "metadata": {},
   "outputs": [
    {
     "name": "stdout",
     "output_type": "stream",
     "text": [
      "10    a\n",
      "20    b\n",
      "30    c\n",
      "40    d\n",
      "dtype: object\n"
     ]
    }
   ],
   "source": [
    "data1 = {\n",
    "    10: 'a',\n",
    "    20: 'b',\n",
    "    30:'c',\n",
    "    40:'d'\n",
    "}\n",
    "data_series = pd.Series(data1)\n",
    "print(data_series)"
   ]
  },
  {
   "cell_type": "code",
   "execution_count": 10,
   "id": "34d15048-7b60-469e-b596-ce84a3aeaa87",
   "metadata": {},
   "outputs": [
    {
     "name": "stdout",
     "output_type": "stream",
     "text": [
      "<class 'pandas.core.series.Series'>\n"
     ]
    }
   ],
   "source": [
    "print(type(data_series))"
   ]
  },
  {
   "cell_type": "code",
   "execution_count": 11,
   "id": "7d72b3b7-a74d-45ea-8e63-639e417d3b0c",
   "metadata": {},
   "outputs": [
    {
     "name": "stdout",
     "output_type": "stream",
     "text": [
      "0    10\n",
      "1    20\n",
      "2    30\n",
      "3    40\n",
      "4    50\n",
      "dtype: int32\n"
     ]
    }
   ],
   "source": [
    "data2 = np.array([10,20,30,40,50])\n",
    "data_series = pd.Series(data2)\n",
    "print(data_series)"
   ]
  },
  {
   "cell_type": "code",
   "execution_count": 19,
   "id": "4b1552d1-bc36-4403-a914-0910505aae08",
   "metadata": {},
   "outputs": [
    {
     "data": {
      "text/plain": [
       "(4,)"
      ]
     },
     "execution_count": 19,
     "metadata": {},
     "output_type": "execute_result"
    }
   ],
   "source": [
    "data_series.shape"
   ]
  },
  {
   "cell_type": "code",
   "execution_count": 17,
   "id": "f8dd37be-202b-4d03-ae49-c0508e7f26d0",
   "metadata": {},
   "outputs": [
    {
     "name": "stdout",
     "output_type": "stream",
     "text": [
      "10    a\n",
      "20    b\n",
      "30    c\n",
      "40    d\n",
      "dtype: object\n"
     ]
    }
   ],
   "source": [
    "data2 = np.array({\n",
    "    10: 'a',\n",
    "    20: 'b',\n",
    "    30:'c',\n",
    "    40:'d'\n",
    "})\n",
    "data_series = pd.Series(data1)\n",
    "print(data_series)"
   ]
  },
  {
   "cell_type": "code",
   "execution_count": 26,
   "id": "bdece2f1-a73e-4131-a9b4-984e16c1cb84",
   "metadata": {},
   "outputs": [
    {
     "name": "stdout",
     "output_type": "stream",
     "text": [
      "0    [10, 20]\n",
      "1    [30, 40]\n",
      "2    [50, 60]\n",
      "dtype: object\n",
      "3\n",
      "40\n"
     ]
    }
   ],
   "source": [
    "data_2d = [[10,20],[30,40],[50,60]]    #nested list is also 2d list\n",
    "data_series = pd.Series(data_2d)\n",
    "print(data_series)\n",
    "print(len(data_series))\n",
    "a = data_2d[1][1]\n",
    "print(a)"
   ]
  },
  {
   "cell_type": "code",
   "execution_count": 27,
   "id": "c96c6f29-860e-4265-a12f-3803b5fd7867",
   "metadata": {},
   "outputs": [
    {
     "name": "stdout",
     "output_type": "stream",
     "text": [
      "   col1  col2\n",
      "0    10    20\n",
      "1    30    40\n",
      "2    50    60\n"
     ]
    }
   ],
   "source": [
    "df_list = pd.DataFrame(data_2d, columns=['col1', 'col2'])\n",
    "print(df_list)"
   ]
  },
  {
   "cell_type": "code",
   "execution_count": 33,
   "id": "5782ac08-53a7-4d4f-b4f5-9c611b7bfd08",
   "metadata": {},
   "outputs": [
    {
     "name": "stdout",
     "output_type": "stream",
     "text": [
      "   Nmae  Age\n",
      "0   Ram   10\n",
      "1  Gita   20\n",
      "2  Hari   30\n"
     ]
    }
   ],
   "source": [
    "dict1 ={\n",
    "    'Nmae': ['Ram','Gita', 'Hari'],\n",
    "    'Age': [10,20,30]\n",
    "}\n",
    "df_dict = pd.DataFrame(dict1)\n",
    "print(df_dict)"
   ]
  },
  {
   "cell_type": "code",
   "execution_count": 34,
   "id": "740830a2-2cbe-43c8-99de-fb4a037667e4",
   "metadata": {},
   "outputs": [
    {
     "name": "stdout",
     "output_type": "stream",
     "text": [
      "<class 'pandas.core.frame.DataFrame'>\n"
     ]
    }
   ],
   "source": [
    "print(type(df_dict))"
   ]
  },
  {
   "cell_type": "code",
   "execution_count": 35,
   "id": "ade7d5f5-69b2-4a06-a593-5586cb1958cf",
   "metadata": {},
   "outputs": [
    {
     "name": "stdout",
     "output_type": "stream",
     "text": [
      "3\n"
     ]
    }
   ],
   "source": [
    "print(len(df_dict))"
   ]
  },
  {
   "cell_type": "code",
   "execution_count": 36,
   "id": "eb17e9ab-64e2-405e-b43a-6f3ef7849d96",
   "metadata": {},
   "outputs": [
    {
     "name": "stdout",
     "output_type": "stream",
     "text": [
      "    Name  Age\n",
      "0    Ram   10\n",
      "1   Hari   20\n",
      "2  Shyam   30\n"
     ]
    }
   ],
   "source": [
    "dict2 = [\n",
    "    {'Name':'Ram', 'Age':10},\n",
    "    {'Name':'Hari', 'Age':20},\n",
    "    {'Name':'Shyam', 'Age':30},\n",
    "    \n",
    "]\n",
    "df_dict2 = pd.DataFrame(dict2)\n",
    "print(df_dict2)"
   ]
  },
  {
   "cell_type": "code",
   "execution_count": 37,
   "id": "efe2138d-4137-4907-9e92-fa1d4ba3e2a8",
   "metadata": {},
   "outputs": [
    {
     "name": "stdout",
     "output_type": "stream",
     "text": [
      "<class 'pandas.core.frame.DataFrame'>\n"
     ]
    }
   ],
   "source": [
    "print(type(df_dict2))"
   ]
  },
  {
   "cell_type": "code",
   "execution_count": 38,
   "id": "8c50c4b5-c456-4620-bbc9-b1d6b85a5b9f",
   "metadata": {},
   "outputs": [
    {
     "name": "stdout",
     "output_type": "stream",
     "text": [
      "3\n"
     ]
    }
   ],
   "source": [
    "print(len(df_dict2))"
   ]
  },
  {
   "cell_type": "markdown",
   "id": "a8d0d4f6-2b0b-480d-8710-b5533a6a4109",
   "metadata": {},
   "source": [
    "Data Injection\n",
    "\n",
    "-It is the process of obtaining and import data for immediate use of storage in a database\n",
    "\n",
    "-This repositroy includes variety of Dataset, so for now we will ise that as data source.\n",
    "\n",
    "-There may be scenario where we need to ingest data from google drive as well as for that purpose we can use gdown library"
   ]
  },
  {
   "cell_type": "code",
   "execution_count": 44,
   "id": "ddfe4a0d-c319-4481-9775-6da32dbf1861",
   "metadata": {},
   "outputs": [
    {
     "data": {
      "text/html": [
       "<div>\n",
       "<style scoped>\n",
       "    .dataframe tbody tr th:only-of-type {\n",
       "        vertical-align: middle;\n",
       "    }\n",
       "\n",
       "    .dataframe tbody tr th {\n",
       "        vertical-align: top;\n",
       "    }\n",
       "\n",
       "    .dataframe thead th {\n",
       "        text-align: right;\n",
       "    }\n",
       "</style>\n",
       "<table border=\"1\" class=\"dataframe\">\n",
       "  <thead>\n",
       "    <tr style=\"text-align: right;\">\n",
       "      <th></th>\n",
       "      <th>name</th>\n",
       "      <th>year</th>\n",
       "      <th>selling_price</th>\n",
       "      <th>km_driven</th>\n",
       "      <th>fuel</th>\n",
       "      <th>seller_type</th>\n",
       "      <th>transmission</th>\n",
       "      <th>owner</th>\n",
       "    </tr>\n",
       "  </thead>\n",
       "  <tbody>\n",
       "    <tr>\n",
       "      <th>0</th>\n",
       "      <td>Maruti 800 AC</td>\n",
       "      <td>2007</td>\n",
       "      <td>60000</td>\n",
       "      <td>70000</td>\n",
       "      <td>Petrol</td>\n",
       "      <td>Individual</td>\n",
       "      <td>Manual</td>\n",
       "      <td>First Owner</td>\n",
       "    </tr>\n",
       "    <tr>\n",
       "      <th>1</th>\n",
       "      <td>Maruti Wagon R LXI Minor</td>\n",
       "      <td>2007</td>\n",
       "      <td>135000</td>\n",
       "      <td>50000</td>\n",
       "      <td>Petrol</td>\n",
       "      <td>Individual</td>\n",
       "      <td>Manual</td>\n",
       "      <td>First Owner</td>\n",
       "    </tr>\n",
       "    <tr>\n",
       "      <th>2</th>\n",
       "      <td>Hyundai Verna 1.6 SX</td>\n",
       "      <td>2012</td>\n",
       "      <td>600000</td>\n",
       "      <td>100000</td>\n",
       "      <td>Diesel</td>\n",
       "      <td>Individual</td>\n",
       "      <td>Manual</td>\n",
       "      <td>First Owner</td>\n",
       "    </tr>\n",
       "    <tr>\n",
       "      <th>3</th>\n",
       "      <td>Datsun RediGO T Option</td>\n",
       "      <td>2017</td>\n",
       "      <td>250000</td>\n",
       "      <td>46000</td>\n",
       "      <td>Petrol</td>\n",
       "      <td>Individual</td>\n",
       "      <td>Manual</td>\n",
       "      <td>First Owner</td>\n",
       "    </tr>\n",
       "    <tr>\n",
       "      <th>4</th>\n",
       "      <td>Honda Amaze VX i-DTEC</td>\n",
       "      <td>2014</td>\n",
       "      <td>450000</td>\n",
       "      <td>141000</td>\n",
       "      <td>Diesel</td>\n",
       "      <td>Individual</td>\n",
       "      <td>Manual</td>\n",
       "      <td>Second Owner</td>\n",
       "    </tr>\n",
       "  </tbody>\n",
       "</table>\n",
       "</div>"
      ],
      "text/plain": [
       "                       name  year  selling_price  km_driven    fuel  \\\n",
       "0             Maruti 800 AC  2007          60000      70000  Petrol   \n",
       "1  Maruti Wagon R LXI Minor  2007         135000      50000  Petrol   \n",
       "2      Hyundai Verna 1.6 SX  2012         600000     100000  Diesel   \n",
       "3    Datsun RediGO T Option  2017         250000      46000  Petrol   \n",
       "4     Honda Amaze VX i-DTEC  2014         450000     141000  Diesel   \n",
       "\n",
       "  seller_type transmission         owner  \n",
       "0  Individual       Manual   First Owner  \n",
       "1  Individual       Manual   First Owner  \n",
       "2  Individual       Manual   First Owner  \n",
       "3  Individual       Manual   First Owner  \n",
       "4  Individual       Manual  Second Owner  "
      ]
     },
     "execution_count": 44,
     "metadata": {},
     "output_type": "execute_result"
    }
   ],
   "source": [
    "data_path = 'car_details.csv'\n",
    "dr_hr = pd.read_csv(data_path)\n",
    "dr_hr.head()\n",
    "# print(dr_hr)"
   ]
  },
  {
   "cell_type": "code",
   "execution_count": 47,
   "id": "cbeb34ab-ca3c-42b4-9cfe-a9fcca778ed1",
   "metadata": {},
   "outputs": [
    {
     "name": "stdout",
     "output_type": "stream",
     "text": [
      "Requirement already satisfied: openpyxl in c:\\users\\arun\\appdata\\local\\programs\\python\\python39\\lib\\site-packages (3.1.2)\n",
      "Requirement already satisfied: et-xmlfile in c:\\users\\arun\\appdata\\local\\programs\\python\\python39\\lib\\site-packages (from openpyxl) (1.1.0)\n",
      "Note: you may need to restart the kernel to use updated packages.\n"
     ]
    },
    {
     "name": "stderr",
     "output_type": "stream",
     "text": [
      "WARNING: Ignoring invalid distribution -jango (c:\\users\\arun\\appdata\\local\\programs\\python\\python39\\lib\\site-packages)\n",
      "WARNING: Ignoring invalid distribution -jango (c:\\users\\arun\\appdata\\local\\programs\\python\\python39\\lib\\site-packages)\n",
      "\n",
      "[notice] A new release of pip is available: 23.3.1 -> 24.0\n",
      "[notice] To update, run: python.exe -m pip install --upgrade pip\n"
     ]
    }
   ],
   "source": [
    "pip install openpyxl"
   ]
  },
  {
   "cell_type": "code",
   "execution_count": 48,
   "id": "46c3eab7-b40b-4004-910c-ba69d85e6f10",
   "metadata": {},
   "outputs": [],
   "source": [
    "import openpyxl"
   ]
  },
  {
   "cell_type": "code",
   "execution_count": 54,
   "id": "133cda4d-c28b-4bdd-b85e-c24e6196def3",
   "metadata": {},
   "outputs": [
    {
     "ename": "AttributeError",
     "evalue": "module 'pandas' has no attribute 'OpenyxlWriter'",
     "output_type": "error",
     "traceback": [
      "\u001b[1;31m---------------------------------------------------------------------------\u001b[0m",
      "\u001b[1;31mAttributeError\u001b[0m                            Traceback (most recent call last)",
      "Cell \u001b[1;32mIn[54], line 1\u001b[0m\n\u001b[1;32m----> 1\u001b[0m excel_data \u001b[38;5;241m=\u001b[39m \u001b[43mpd\u001b[49m\u001b[38;5;241;43m.\u001b[39;49m\u001b[43mOpenyxlWriter\u001b[49m(\u001b[38;5;124m'\u001b[39m\u001b[38;5;124mcar_details.xlsx\u001b[39m\u001b[38;5;124m'\u001b[39m)\n\u001b[0;32m      2\u001b[0m dr_hr\u001b[38;5;241m.\u001b[39mto_excel(excel_data, index\u001b[38;5;241m=\u001b[39m\u001b[38;5;28;01mFalse\u001b[39;00m)\n\u001b[0;32m      3\u001b[0m \u001b[38;5;28mprint\u001b[39m(excel_data)\n",
      "\u001b[1;31mAttributeError\u001b[0m: module 'pandas' has no attribute 'OpenyxlWriter'"
     ]
    }
   ],
   "source": [
    "excel_data = pd.OpenyxlWriter('car_details.xlsx')\n",
    "dr_hr.to_excel(excel_data, index=False)\n",
    "print(excel_data)\n",
    "excel_data.save()"
   ]
  },
  {
   "cell_type": "code",
   "execution_count": null,
   "id": "f0c22a7a-3ab9-4bb6-aae2-8c63bd2bb60e",
   "metadata": {},
   "outputs": [],
   "source": []
  }
 ],
 "metadata": {
  "kernelspec": {
   "display_name": "Python 3 (ipykernel)",
   "language": "python",
   "name": "python3"
  },
  "language_info": {
   "codemirror_mode": {
    "name": "ipython",
    "version": 3
   },
   "file_extension": ".py",
   "mimetype": "text/x-python",
   "name": "python",
   "nbconvert_exporter": "python",
   "pygments_lexer": "ipython3",
   "version": "3.9.13"
  }
 },
 "nbformat": 4,
 "nbformat_minor": 5
}
