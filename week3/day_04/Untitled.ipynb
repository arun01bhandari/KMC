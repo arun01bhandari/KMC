{
 "cells": [
  {
   "cell_type": "code",
   "execution_count": 5,
   "id": "a7601bbc-00ad-4cc2-86c5-75435bfdc10e",
   "metadata": {},
   "outputs": [
    {
     "name": "stdout",
     "output_type": "stream",
     "text": [
      "0\n",
      "1\n",
      "2\n",
      "3\n",
      "4\n",
      "5\n",
      "6\n",
      "7\n",
      "8\n",
      "9\n",
      "Total time for program execution: 0.0006359000001339155\n"
     ]
    }
   ],
   "source": [
    "from time import perf_counter\n",
    "start_time = perf_counter()\n",
    "for i in range(10):\n",
    "    print(i)\n",
    "end_time = perf_counter()\n",
    "total_time = end_time - start_time\n",
    "print(f\"Total time for program execution: {total_time}\")    "
   ]
  },
  {
   "cell_type": "code",
   "execution_count": 7,
   "id": "d3b3c504-22cd-446c-aa11-39bb011517a5",
   "metadata": {},
   "outputs": [],
   "source": [
    "import timeit\n",
    "def timer(number, repeat):\n",
    "    def wrapper(func):\n",
    "        runs = timeit.repeat(func, number=number, repeat=repeat)\n",
    "        print(sum(runs)/len(runs))\n",
    "    return wrapper"
   ]
  },
  {
   "cell_type": "code",
   "execution_count": null,
   "id": "42375be2-32a1-4bb5-9b31-7f4b03e64eef",
   "metadata": {},
   "outputs": [],
   "source": [
    "from timer import timer\n",
    "@timer(1,2)\n",
    "def main"
   ]
  }
 ],
 "metadata": {
  "kernelspec": {
   "display_name": "Python 3 (ipykernel)",
   "language": "python",
   "name": "python3"
  },
  "language_info": {
   "codemirror_mode": {
    "name": "ipython",
    "version": 3
   },
   "file_extension": ".py",
   "mimetype": "text/x-python",
   "name": "python",
   "nbconvert_exporter": "python",
   "pygments_lexer": "ipython3",
   "version": "3.9.13"
  }
 },
 "nbformat": 4,
 "nbformat_minor": 5
}
