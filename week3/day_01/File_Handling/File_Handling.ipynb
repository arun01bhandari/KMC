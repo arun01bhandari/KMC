{
 "cells": [
  {
   "cell_type": "code",
   "execution_count": 9,
   "id": "65e7071f",
   "metadata": {},
   "outputs": [],
   "source": [
    "filename = 'demo.txt'\n",
    "file_obj = open(filename, 'r')"
   ]
  },
  {
   "cell_type": "code",
   "execution_count": 3,
   "id": "6d443496-e4f5-4ca1-ad96-72bf944a6654",
   "metadata": {},
   "outputs": [
    {
     "name": "stdout",
     "output_type": "stream",
     "text": [
      "<class '_io.TextIOWrapper'>\n"
     ]
    }
   ],
   "source": [
    "print(type(file_obj))"
   ]
  },
  {
   "cell_type": "code",
   "execution_count": 10,
   "id": "cd31a39c-396e-4c2a-9d35-abac0b7294f5",
   "metadata": {},
   "outputs": [],
   "source": [
    "file = open(filename,'w')"
   ]
  },
  {
   "cell_type": "code",
   "execution_count": 11,
   "id": "ea5ba4a1",
   "metadata": {},
   "outputs": [],
   "source": [
    "file = open(filename,'a')"
   ]
  },
  {
   "cell_type": "code",
   "execution_count": 14,
   "id": "6b0727b7",
   "metadata": {},
   "outputs": [],
   "source": [
    "file = open('demo1.txt', 'x')"
   ]
  },
  {
   "cell_type": "code",
   "execution_count": 16,
   "id": "2c7a18e1",
   "metadata": {},
   "outputs": [],
   "source": [
    "with open(filename, 'r') as file_obj:\n",
    "    pass"
   ]
  },
  {
   "cell_type": "code",
   "execution_count": 17,
   "id": "712a933d",
   "metadata": {},
   "outputs": [],
   "source": [
    "with open(filename,'w') as file_obj:\n",
    "    pass"
   ]
  },
  {
   "cell_type": "code",
   "execution_count": 18,
   "id": "1b7bcfdb",
   "metadata": {},
   "outputs": [],
   "source": [
    "with open(filename,'a') as file_obj:\n",
    "    pass"
   ]
  },
  {
   "cell_type": "code",
   "execution_count": null,
   "id": "48edacbb",
   "metadata": {},
   "outputs": [],
   "source": [
    "with open('demo2.txt','w') as file_obj:\n",
    "    pass"
   ]
  }
 ],
 "metadata": {
  "kernelspec": {
   "display_name": "Python 3 (ipykernel)",
   "language": "python",
   "name": "python3"
  },
  "language_info": {
   "codemirror_mode": {
    "name": "ipython",
    "version": 3
   },
   "file_extension": ".py",
   "mimetype": "text/x-python",
   "name": "python",
   "nbconvert_exporter": "python",
   "pygments_lexer": "ipython3",
   "version": "3.9.13"
  }
 },
 "nbformat": 4,
 "nbformat_minor": 5
}
