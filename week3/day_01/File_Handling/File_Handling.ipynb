{
 "cells": [
  {
   "cell_type": "code",
   "execution_count": 9,
   "id": "65e7071f",
   "metadata": {},
   "outputs": [],
   "source": [
    "filename = 'demo.txt'\n",
    "file_obj = open(filename, 'r')"
   ]
  },
  {
   "cell_type": "code",
   "execution_count": 3,
   "id": "6d443496-e4f5-4ca1-ad96-72bf944a6654",
   "metadata": {},
   "outputs": [
    {
     "name": "stdout",
     "output_type": "stream",
     "text": [
      "<class '_io.TextIOWrapper'>\n"
     ]
    }
   ],
   "source": [
    "print(type(file_obj))"
   ]
  },
  {
   "cell_type": "code",
   "execution_count": 10,
   "id": "cd31a39c-396e-4c2a-9d35-abac0b7294f5",
   "metadata": {},
   "outputs": [],
   "source": [
    "file = open(filename,'w')"
   ]
  },
  {
   "cell_type": "code",
   "execution_count": 11,
   "id": "ea5ba4a1",
   "metadata": {},
   "outputs": [],
   "source": [
    "file = open(filename,'a')"
   ]
  },
  {
   "cell_type": "code",
   "execution_count": 14,
   "id": "6b0727b7",
   "metadata": {},
   "outputs": [],
   "source": [
    "file = open('demo1.txt', 'x')"
   ]
  },
  {
   "cell_type": "code",
   "execution_count": 16,
   "id": "2c7a18e1",
   "metadata": {},
   "outputs": [],
   "source": [
    "with open(filename, 'r') as file_obj:\n",
    "    pass"
   ]
  },
  {
   "cell_type": "code",
   "execution_count": 17,
   "id": "712a933d",
   "metadata": {},
   "outputs": [],
   "source": [
    "with open(filename,'w') as file_obj:\n",
    "    pass"
   ]
  },
  {
   "cell_type": "code",
   "execution_count": 18,
   "id": "1b7bcfdb",
   "metadata": {},
   "outputs": [],
   "source": [
    "with open(filename,'a') as file_obj:\n",
    "    pass"
   ]
  },
  {
   "cell_type": "code",
   "execution_count": 19,
   "id": "48edacbb",
   "metadata": {},
   "outputs": [],
   "source": [
    "with open('demo2.txt','w') as file_obj:\n",
    "    pass"
   ]
  },
  {
   "cell_type": "code",
   "execution_count": 22,
   "id": "fc35f6a7",
   "metadata": {},
   "outputs": [
    {
     "name": "stdout",
     "output_type": "stream",
     "text": [
      "Hello I'm learning python\n",
      "Python is a awesome Language.\n"
     ]
    }
   ],
   "source": [
    "with open(filename, 'r') as file_obj:\n",
    "    file_content = file_obj.read()\n",
    "print(file_content)"
   ]
  },
  {
   "cell_type": "code",
   "execution_count": 23,
   "id": "e2ea360a",
   "metadata": {},
   "outputs": [
    {
     "name": "stdout",
     "output_type": "stream",
     "text": [
      "<class 'str'>\n"
     ]
    }
   ],
   "source": [
    "print(type(file_content))"
   ]
  },
  {
   "cell_type": "code",
   "execution_count": 24,
   "id": "94026c2a",
   "metadata": {},
   "outputs": [
    {
     "name": "stdout",
     "output_type": "stream",
     "text": [
      "Hello I'm \n"
     ]
    }
   ],
   "source": [
    "with open(filename, 'r') as file_obj:\n",
    "    file_content  = file_obj.read(10)\n",
    "print(file_content)"
   ]
  },
  {
   "cell_type": "code",
   "execution_count": 29,
   "id": "00280c34",
   "metadata": {},
   "outputs": [
    {
     "name": "stdout",
     "output_type": "stream",
     "text": [
      "Hello I'm learning python\n",
      "\n"
     ]
    }
   ],
   "source": [
    "with open(filename, 'r') as file_obj:\n",
    "    file_content  = file_obj.readline()\n",
    "print(file_content)"
   ]
  },
  {
   "cell_type": "code",
   "execution_count": 26,
   "id": "19ee0358",
   "metadata": {},
   "outputs": [
    {
     "name": "stdout",
     "output_type": "stream",
     "text": [
      "<class 'str'>\n"
     ]
    }
   ],
   "source": [
    "print(type(file_content))"
   ]
  },
  {
   "cell_type": "code",
   "execution_count": 34,
   "id": "daa0b176",
   "metadata": {},
   "outputs": [
    {
     "name": "stdout",
     "output_type": "stream",
     "text": [
      "[\"Hello I'm learning python\\n\", 'Python is a awesome Language.']\n"
     ]
    }
   ],
   "source": [
    "with open(filename, 'r') as file_obj:\n",
    "    file_content  = file_obj.readlines()\n",
    "print(file_content)"
   ]
  },
  {
   "cell_type": "code",
   "execution_count": 56,
   "id": "cd50daaf",
   "metadata": {},
   "outputs": [
    {
     "name": "stdout",
     "output_type": "stream",
     "text": [
      "Hello I'm \n"
     ]
    }
   ],
   "source": [
    "file_obj = open('demo.txt','r')\n",
    "file_test = file_obj.read(10)\n",
    "print(file_test)"
   ]
  },
  {
   "cell_type": "code",
   "execution_count": 50,
   "id": "68c012a8",
   "metadata": {},
   "outputs": [
    {
     "data": {
      "text/plain": [
       "1"
      ]
     },
     "execution_count": 50,
     "metadata": {},
     "output_type": "execute_result"
    }
   ],
   "source": [
    "file_obj.seek(1)"
   ]
  },
  {
   "cell_type": "code",
   "execution_count": 57,
   "id": "4a26740f",
   "metadata": {},
   "outputs": [],
   "source": [
    "file_obj.close()"
   ]
  },
  {
   "cell_type": "code",
   "execution_count": 58,
   "id": "a0a388f9",
   "metadata": {},
   "outputs": [
    {
     "ename": "ValueError",
     "evalue": "I/O operation on closed file.",
     "output_type": "error",
     "traceback": [
      "\u001b[1;31m---------------------------------------------------------------------------\u001b[0m",
      "\u001b[1;31mValueError\u001b[0m                                Traceback (most recent call last)",
      "Cell \u001b[1;32mIn[58], line 1\u001b[0m\n\u001b[1;32m----> 1\u001b[0m \u001b[43mfile_obj\u001b[49m\u001b[38;5;241;43m.\u001b[39;49m\u001b[43mread\u001b[49m\u001b[43m(\u001b[49m\u001b[43m)\u001b[49m\n",
      "\u001b[1;31mValueError\u001b[0m: I/O operation on closed file."
     ]
    }
   ],
   "source": [
    "file_obj.read()"
   ]
  },
  {
   "cell_type": "code",
   "execution_count": null,
   "id": "9b062f25",
   "metadata": {},
   "outputs": [],
   "source": [
    "with open(filename, 'w') as file_obj:\n",
    "    file_obj.write(\"Hi I'm learning how to write in a file using Python\")"
   ]
  }
 ],
 "metadata": {
  "kernelspec": {
   "display_name": "Python 3 (ipykernel)",
   "language": "python",
   "name": "python3"
  },
  "language_info": {
   "codemirror_mode": {
    "name": "ipython",
    "version": 3
   },
   "file_extension": ".py",
   "mimetype": "text/x-python",
   "name": "python",
   "nbconvert_exporter": "python",
   "pygments_lexer": "ipython3",
   "version": "3.9.13"
  }
 },
 "nbformat": 4,
 "nbformat_minor": 5
}
