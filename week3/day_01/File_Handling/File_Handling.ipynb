{
 "cells": [
  {
   "cell_type": "code",
   "execution_count": 2,
   "id": "65e7071f",
   "metadata": {},
   "outputs": [],
   "source": [
    "filename = 'demo.txt'\n",
    "file_obj = open('demo.txt', 'r')"
   ]
  },
  {
   "cell_type": "code",
   "execution_count": 3,
   "id": "6d443496-e4f5-4ca1-ad96-72bf944a6654",
   "metadata": {},
   "outputs": [
    {
     "name": "stdout",
     "output_type": "stream",
     "text": [
      "<class '_io.TextIOWrapper'>\n"
     ]
    }
   ],
   "source": [
    "print(type(file_obj))"
   ]
  },
  {
   "cell_type": "code",
   "execution_count": null,
   "id": "cd31a39c-396e-4c2a-9d35-abac0b7294f5",
   "metadata": {},
   "outputs": [],
   "source": [
    "file = open('demo.txt','w')"
   ]
  }
 ],
 "metadata": {
  "kernelspec": {
   "display_name": "Python 3 (ipykernel)",
   "language": "python",
   "name": "python3"
  },
  "language_info": {
   "codemirror_mode": {
    "name": "ipython",
    "version": 3
   },
   "file_extension": ".py",
   "mimetype": "text/x-python",
   "name": "python",
   "nbconvert_exporter": "python",
   "pygments_lexer": "ipython3",
   "version": "3.9.13"
  }
 },
 "nbformat": 4,
 "nbformat_minor": 5
}
