{
 "cells": [
  {
   "cell_type": "code",
   "execution_count": 9,
   "id": "42cfaabd-2a53-40ae-a190-aa31dffcd7e0",
   "metadata": {},
   "outputs": [
    {
     "name": "stdout",
     "output_type": "stream",
     "text": [
      "Namaskar\n",
      "Hello\n"
     ]
    }
   ],
   "source": [
    "class French():\n",
    "    def say_hello():\n",
    "        print(\"Hello\")\n",
    "\n",
    "class Nepal():\n",
    "    def say_hello():\n",
    "        print(\"Namaskar\")\n",
    "\n",
    "def greet(lang):\n",
    "    lang.say_hello()\n",
    "\n",
    "if __name__ == \"__main__\":\n",
    "    # French = French()\n",
    "    greet(Nepal)\n",
    "    greet(French)\n",
    "    "
   ]
  },
  {
   "cell_type": "code",
   "execution_count": 7,
   "id": "9fd79ec2",
   "metadata": {},
   "outputs": [
    {
     "name": "stdout",
     "output_type": "stream",
     "text": [
      "Hello\n",
      "Namaskar\n"
     ]
    }
   ],
   "source": [
    "class French:\n",
    "    def say_hello(self):\n",
    "        print(\"Hello\")\n",
    "\n",
    "class Nepal:\n",
    "    def say_hello(self):\n",
    "        print(\"Namaskar\")\n",
    "\n",
    "def greet(lang):\n",
    "    lang_instance = lang()  # Creating an instance of the class\n",
    "    lang_instance.say_hello()\n",
    "\n",
    "if __name__ == \"__main__\":\n",
    "    greet(French)  # Passing the class itself, not an instance\n",
    "    greet(Nepal)\n"
   ]
  },
  {
   "cell_type": "code",
   "execution_count": null,
   "id": "9188cfe3-baa8-40c1-8b41-1520b1f66469",
   "metadata": {},
   "outputs": [],
   "source": []
  }
 ],
 "metadata": {
  "kernelspec": {
   "display_name": "Python 3 (ipykernel)",
   "language": "python",
   "name": "python3"
  },
  "language_info": {
   "codemirror_mode": {
    "name": "ipython",
    "version": 3
   },
   "file_extension": ".py",
   "mimetype": "text/x-python",
   "name": "python",
   "nbconvert_exporter": "python",
   "pygments_lexer": "ipython3",
   "version": "3.9.13"
  }
 },
 "nbformat": 4,
 "nbformat_minor": 5
}
