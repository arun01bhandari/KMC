{
 "cells": [
  {
   "cell_type": "code",
   "execution_count": null,
   "id": "a77df1e5-77cc-4c92-b168-5bcebfeeefa5",
   "metadata": {},
   "outputs": [],
   "source": [
    "import timeit\n",
    "def timer(number, repeat):\n",
    "    def wrapper(func):\n",
    "        runs = timeit.repeat(func, number=number, repeat=repeat)\n",
    "        print(sum(runs)/len(runs))\n",
    "    return wrapper"
   ]
  },
  {
   "cell_type": "code",
   "execution_count": null,
   "id": "6d753b6b-57ac-4064-9951-8035aa3fcb02",
   "metadata": {},
   "outputs": [],
   "source": [
    "import requests\n",
    "from pro_timer import timer\n",
    "from multiprocessing import Pool\n",
    "\n",
    "\n",
    "# print(multiprocessing.cpu_cunt())\n",
    "URL = \"https://httpbin.org/uuid\"\n",
    "\n",
    "\n",
    "def fetch_uuid(session, url):\n",
    "   with session.get(url) as response:\n",
    "      print(response.json()['uuid'])\n",
    "\n",
    "@timer(1,1)\n",
    "def main():\n",
    "    with Pool() as pool:\n",
    "        with requests.Session() as session:\n",
    "            pool.starmap(fetch_uuid, [(session,URL) for _ in range(0,100)])"
   ]
  },
  {
   "cell_type": "code",
   "execution_count": null,
   "id": "31eb962b-1adc-4946-b164-259ead61e4e9",
   "metadata": {},
   "outputs": [],
   "source": []
  }
 ],
 "metadata": {
  "kernelspec": {
   "display_name": "Python 3 (ipykernel)",
   "language": "python",
   "name": "python3"
  },
  "language_info": {
   "codemirror_mode": {
    "name": "ipython",
    "version": 3
   },
   "file_extension": ".py",
   "mimetype": "text/x-python",
   "name": "python",
   "nbconvert_exporter": "python",
   "pygments_lexer": "ipython3",
   "version": "3.9.13"
  }
 },
 "nbformat": 4,
 "nbformat_minor": 5
}
