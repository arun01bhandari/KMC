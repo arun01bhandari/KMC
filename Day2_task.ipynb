{
  "nbformat": 4,
  "nbformat_minor": 0,
  "metadata": {
    "colab": {
      "provenance": [],
      "authorship_tag": "ABX9TyMtKionROEmlwa1lmYocau8",
      "include_colab_link": true
    },
    "kernelspec": {
      "name": "python3",
      "display_name": "Python 3"
    },
    "language_info": {
      "name": "python"
    }
  },
  "cells": [
    {
      "cell_type": "markdown",
      "metadata": {
        "id": "view-in-github",
        "colab_type": "text"
      },
      "source": [
        "<a href=\"https://colab.research.google.com/github/bhandariarun/KMC/blob/main/Day2_task.ipynb\" target=\"_parent\"><img src=\"https://colab.research.google.com/assets/colab-badge.svg\" alt=\"Open In Colab\"/></a>"
      ]
    },
    {
      "cell_type": "markdown",
      "source": [
        "**Write a python program to draw a triangle shape using print statement only.**"
      ],
      "metadata": {
        "id": "ULRM6izuNbE1"
      }
    },
    {
      "cell_type": "code",
      "source": [
        "def triangle(height):\n",
        "    for i in range(height):\n",
        "        if i == 0:\n",
        "            print(\" \" * (height - i - 1) + \"*\")   #it print a first line with space\n",
        "        elif i == height - 1:\n",
        "           print(\"* \" * (height - 1) + \"*\")  #it draw a last line of the code\n",
        "        else:\n",
        "            print(\" \" * (height - i - 1) + \"*\" + \" \" * (2 * i - 1) + \"*\") # it draws the remaining line of the code\n",
        "\n",
        "\n",
        "height = int(input(\"Enter a number:\")) #it ask input from user\n",
        "triangle(height)\n"
      ],
      "metadata": {
        "colab": {
          "base_uri": "https://localhost:8080/"
        },
        "id": "KxxrBUpwNbbd",
        "outputId": "6fd440cf-be1a-4801-f94b-d0c9799c7579"
      },
      "execution_count": null,
      "outputs": [
        {
          "output_type": "stream",
          "name": "stdout",
          "text": [
            "Enter a number:6\n",
            "     *\n",
            "    * *\n",
            "   *   *\n",
            "  *     *\n",
            " *       *\n",
            "* * * * * *\n"
          ]
        }
      ]
    },
    {
      "cell_type": "markdown",
      "source": [
        "**Python Program to Make a Simple Calculator**"
      ],
      "metadata": {
        "id": "qjiWP_4rRxg3"
      }
    },
    {
      "cell_type": "code",
      "source": [
        "a = float(input(\"Enter a first number:\"))  #ask first number from user\n",
        "b = float(input(\"Enter a second number:\")) #ask second number from user\n",
        "oper = input(\"Enter the type of operation you want to perform (+, -, *, /, %): \") #ask operator from user\n",
        "result = 0  #initialize\n",
        "if oper == \"+\":   #add condition\n",
        "    result = a+b\n",
        "elif oper == \"-\": #sub condition\n",
        "    result = a-b\n",
        "elif oper == \"*\": #mul condition\n",
        "    result = a*b\n",
        "elif oper == \"/\":\n",
        "    result = a//b\n",
        "elif oper == \"%\":\n",
        "    result = a%b\n",
        "else:\n",
        "    print(\"Invalid Input\")\n",
        "print(\"Your answer is: \",result)\n"
      ],
      "metadata": {
        "colab": {
          "base_uri": "https://localhost:8080/"
        },
        "id": "uioxLywXRz6e",
        "outputId": "ab0d636c-ff0d-4906-c94d-8726f28ec0d0"
      },
      "execution_count": null,
      "outputs": [
        {
          "output_type": "stream",
          "name": "stdout",
          "text": [
            "Enter a first number:10\n",
            "Enter a second number:2\n",
            "Enter the type of operation you want to perform (+, -, *, /, %): +\n",
            "Your answer is:  12.0\n"
          ]
        }
      ]
    },
    {
      "cell_type": "markdown",
      "source": [
        "**Create a variable named variable test in snake case format and assign value “my first variable assignment”. Print the result.**"
      ],
      "metadata": {
        "id": "WPyjBhymVNpW"
      }
    },
    {
      "cell_type": "code",
      "source": [
        "variable_test = \"my first variable assignment\"\n",
        "print(variable_test)"
      ],
      "metadata": {
        "colab": {
          "base_uri": "https://localhost:8080/"
        },
        "id": "mMJnoRAcVR1u",
        "outputId": "34cc2cfa-a4d9-4ec5-9575-9ea5f7e4075b"
      },
      "execution_count": null,
      "outputs": [
        {
          "output_type": "stream",
          "name": "stdout",
          "text": [
            "my first variable assignment\n"
          ]
        }
      ]
    },
    {
      "cell_type": "markdown",
      "source": [
        "**Create a variable named age and assign value as 20. Print the result.**"
      ],
      "metadata": {
        "id": "1DG7bg15Vvj3"
      }
    },
    {
      "cell_type": "code",
      "source": [
        "age = 20\n",
        "print(age)"
      ],
      "metadata": {
        "colab": {
          "base_uri": "https://localhost:8080/"
        },
        "id": "Wr08FkrlV0GI",
        "outputId": "18ff4bee-6908-4514-a022-bf306d2e60eb"
      },
      "execution_count": null,
      "outputs": [
        {
          "output_type": "stream",
          "name": "stdout",
          "text": [
            "20\n"
          ]
        }
      ]
    },
    {
      "cell_type": "markdown",
      "source": [
        "**Create a variable called z, assign x + y to it, and Display the result.**\n",
        "**Initialize,**\n",
        "**x = 20, y = 30**"
      ],
      "metadata": {
        "id": "-SZ-WPfoV8kB"
      }
    },
    {
      "cell_type": "code",
      "source": [
        "x = 20\n",
        "y = 30\n",
        "z = x+y\n",
        "print(z)"
      ],
      "metadata": {
        "colab": {
          "base_uri": "https://localhost:8080/"
        },
        "id": "9BsE4y6nV-8D",
        "outputId": "c1ec7bca-b1ea-4764-ac11-49cde4f775dd"
      },
      "execution_count": null,
      "outputs": [
        {
          "output_type": "stream",
          "name": "stdout",
          "text": [
            "50\n"
          ]
        }
      ]
    },
    {
      "cell_type": "markdown",
      "source": [
        "**Create three variables x, y, z and assign same value to all 3 variables in** **one code**\n",
        "**line.**"
      ],
      "metadata": {
        "id": "F9kAHOSfWrOR"
      }
    },
    {
      "cell_type": "code",
      "source": [
        "x=y=z=3"
      ],
      "metadata": {
        "id": "wbowaHgNW1Nd"
      },
      "execution_count": null,
      "outputs": []
    },
    {
      "cell_type": "markdown",
      "source": [
        "**Develop basic calculator app for the user:**\n",
        "**a. Input two numbers from user and assign it to variable num1 and num2**\n",
        "**b. Perform addition of two numbers and assign to variable result_add**\n",
        "**c. Display result_add to user.**"
      ],
      "metadata": {
        "id": "XgrmUwDlW-Lr"
      }
    },
    {
      "cell_type": "code",
      "source": [
        "num1 = float(input(\"Enter a first number:\"))\n",
        "num2 = float(input(\"Enter a second number:\"))\n",
        "result_add = num1+num2\n",
        "print(result_add)"
      ],
      "metadata": {
        "colab": {
          "base_uri": "https://localhost:8080/"
        },
        "id": "D9aYjP3CXFK4",
        "outputId": "e2eafb2f-6641-47a3-a9fe-c18ff617f287"
      },
      "execution_count": null,
      "outputs": [
        {
          "output_type": "stream",
          "name": "stdout",
          "text": [
            "Enter a first number:10\n",
            "Enter a second number:2\n",
            "12.0\n"
          ]
        }
      ]
    }
  ]
}