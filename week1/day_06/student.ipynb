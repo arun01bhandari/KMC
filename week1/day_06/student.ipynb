{
 "cells": [
  {
   "cell_type": "code",
   "execution_count": 1,
   "id": "f7a17ee8-8407-4515-8975-59550d50e0d2",
   "metadata": {},
   "outputs": [
    {
     "name": "stdout",
     "output_type": "stream",
     "text": [
      "('item1', 2, 'item3', 4)\n"
     ]
    }
   ],
   "source": [
    "simple_tuple = (\"item1\", 2, 'item3', 4)\n",
    "print(simple_tuple)"
   ]
  },
  {
   "cell_type": "code",
   "execution_count": 2,
   "id": "58d5947c-7042-403c-91c2-1ad1796be121",
   "metadata": {},
   "outputs": [
    {
     "name": "stdout",
     "output_type": "stream",
     "text": [
      "<class 'tuple'>\n"
     ]
    }
   ],
   "source": [
    "print(type(simple_tuple))"
   ]
  },
  {
   "cell_type": "code",
   "execution_count": 3,
   "id": "51fb0ba2-57ca-4586-817c-4538b462ff72",
   "metadata": {},
   "outputs": [
    {
     "name": "stdout",
     "output_type": "stream",
     "text": [
      "4\n"
     ]
    }
   ],
   "source": [
    "tuple_len = len(simple_tuple)\n",
    "print(tuple_len)"
   ]
  },
  {
   "cell_type": "code",
   "execution_count": 4,
   "id": "addbdebe-9ba7-4ecc-92d9-57a30595735c",
   "metadata": {},
   "outputs": [
    {
     "name": "stdout",
     "output_type": "stream",
     "text": [
      "(('item1', 2), ('item2', 3), (4, 5))\n"
     ]
    }
   ],
   "source": [
    "nested_tuple = ((\"item1\", 2), (\"item2\", 3), (4, 5))\n",
    "print(nested_tuple)"
   ]
  },
  {
   "cell_type": "code",
   "execution_count": 5,
   "id": "af045cd9-a49b-4504-b678-3ee650fae5a6",
   "metadata": {},
   "outputs": [
    {
     "name": "stdout",
     "output_type": "stream",
     "text": [
      "<class 'tuple'>\n"
     ]
    }
   ],
   "source": [
    "print(type(nested_tuple))"
   ]
  },
  {
   "cell_type": "code",
   "execution_count": 6,
   "id": "330d77fb-d597-4365-8628-95727430dc78",
   "metadata": {},
   "outputs": [
    {
     "name": "stdout",
     "output_type": "stream",
     "text": [
      "3\n"
     ]
    }
   ],
   "source": [
    "tuple_len = len(nested_tuple)\n",
    "print(tuple_len)"
   ]
  },
  {
   "cell_type": "code",
   "execution_count": 7,
   "id": "a6f4b400-d83e-45b7-a282-0ea8e4b5bf00",
   "metadata": {},
   "outputs": [
    {
     "name": "stdout",
     "output_type": "stream",
     "text": [
      "('Create', 'Tuple', 'from', 'String')\n"
     ]
    }
   ],
   "source": [
    "sample_str = \"Create Tuple from String\"\n",
    "\n",
    "# split string (separator = whitespace)\n",
    "list_from_str = sample_str.split(\" \")\n",
    "\n",
    "# typecast list to tuple\n",
    "tuple_from_list = tuple(list_from_str)\n",
    "\n",
    "print(tuple_from_list)"
   ]
  },
  {
   "cell_type": "code",
   "execution_count": 8,
   "id": "caf535eb-9d3e-4672-9296-215b1396e829",
   "metadata": {},
   "outputs": [
    {
     "name": "stdout",
     "output_type": "stream",
     "text": [
      "(0, 1, 2, 3, 4)\n"
     ]
    }
   ],
   "source": [
    "tuple_indexing = (0, 1, 2, 3, 4)\n",
    "print(tuple_indexing)"
   ]
  },
  {
   "cell_type": "code",
   "execution_count": 9,
   "id": "d1314154-568b-41df-b066-8ba688845704",
   "metadata": {},
   "outputs": [
    {
     "data": {
      "text/plain": [
       "0"
      ]
     },
     "execution_count": 9,
     "metadata": {},
     "output_type": "execute_result"
    }
   ],
   "source": [
    "tuple_indexing[0]"
   ]
  },
  {
   "cell_type": "code",
   "execution_count": 10,
   "id": "48a3e71a-a6f5-4480-89df-409f6385a0e5",
   "metadata": {},
   "outputs": [
    {
     "data": {
      "text/plain": [
       "4"
      ]
     },
     "execution_count": 10,
     "metadata": {},
     "output_type": "execute_result"
    }
   ],
   "source": [
    "tuple_indexing[4]"
   ]
  },
  {
   "cell_type": "code",
   "execution_count": 11,
   "id": "b232f313-26cb-4340-bc8b-c694611e8b25",
   "metadata": {},
   "outputs": [
    {
     "data": {
      "text/plain": [
       "0"
      ]
     },
     "execution_count": 11,
     "metadata": {},
     "output_type": "execute_result"
    }
   ],
   "source": [
    "tuple_indexing[-len(tuple_indexing)]"
   ]
  },
  {
   "cell_type": "code",
   "execution_count": 12,
   "id": "96facf16-7c79-4405-9a80-478c611d5302",
   "metadata": {},
   "outputs": [
    {
     "data": {
      "text/plain": [
       "4"
      ]
     },
     "execution_count": 12,
     "metadata": {},
     "output_type": "execute_result"
    }
   ],
   "source": [
    "tuple_indexing[-1]"
   ]
  },
  {
   "cell_type": "code",
   "execution_count": 13,
   "id": "5879dea8-3c39-48eb-a7c8-d4a567501c1a",
   "metadata": {},
   "outputs": [
    {
     "name": "stdout",
     "output_type": "stream",
     "text": [
      "('item1', 2, 'item3', 4)\n"
     ]
    }
   ],
   "source": [
    "simple_tuple = (\"item1\", 2, 'item3', 4)\n",
    "\n",
    "print(simple_tuple)"
   ]
  },
  {
   "cell_type": "code",
   "execution_count": 14,
   "id": "c593c9c6-eb40-4c40-a26a-84bf414a26a9",
   "metadata": {},
   "outputs": [
    {
     "data": {
      "text/plain": [
       "('item1', 2, 'item3')"
      ]
     },
     "execution_count": 14,
     "metadata": {},
     "output_type": "execute_result"
    }
   ],
   "source": [
    "simple_tuple[:3]"
   ]
  },
  {
   "cell_type": "code",
   "execution_count": 15,
   "id": "12e46c7f-a6d5-43f0-bba3-977e082b834e",
   "metadata": {},
   "outputs": [
    {
     "data": {
      "text/plain": [
       "(2, 'item3', 4)"
      ]
     },
     "execution_count": 15,
     "metadata": {},
     "output_type": "execute_result"
    }
   ],
   "source": [
    "simple_tuple[-3:]"
   ]
  },
  {
   "cell_type": "code",
   "execution_count": 16,
   "id": "634700ca-2a26-40fa-9fb2-6faf61299500",
   "metadata": {},
   "outputs": [
    {
     "data": {
      "text/plain": [
       "('item1', 'item3')"
      ]
     },
     "execution_count": 16,
     "metadata": {},
     "output_type": "execute_result"
    }
   ],
   "source": [
    "simple_tuple[::2]"
   ]
  },
  {
   "cell_type": "code",
   "execution_count": 17,
   "id": "b876f886-014f-478d-b1eb-4ce2c557fc12",
   "metadata": {},
   "outputs": [
    {
     "data": {
      "text/plain": [
       "('item3', 2, 'item1')"
      ]
     },
     "execution_count": 17,
     "metadata": {},
     "output_type": "execute_result"
    }
   ],
   "source": [
    "simple_tuple[2::-1]"
   ]
  },
  {
   "cell_type": "code",
   "execution_count": 18,
   "id": "9ff50f54-d9c3-4745-8127-1e6c5ae227af",
   "metadata": {},
   "outputs": [
    {
     "data": {
      "text/plain": [
       "(4, 'item3', 2)"
      ]
     },
     "execution_count": 18,
     "metadata": {},
     "output_type": "execute_result"
    }
   ],
   "source": [
    "simple_tuple[-1:-4:-1]"
   ]
  },
  {
   "cell_type": "code",
   "execution_count": 19,
   "id": "45e64039-4a8c-4e74-a945-6f8a7b83b0d2",
   "metadata": {},
   "outputs": [
    {
     "data": {
      "text/plain": [
       "(4, 'item3', 2, 'item1')"
      ]
     },
     "execution_count": 19,
     "metadata": {},
     "output_type": "execute_result"
    }
   ],
   "source": [
    "simple_tuple[::-1]"
   ]
  },
  {
   "cell_type": "code",
   "execution_count": 20,
   "id": "270ded8c-1d19-4e90-9240-7459811bf3d6",
   "metadata": {},
   "outputs": [
    {
     "ename": "TypeError",
     "evalue": "'tuple' object does not support item assignment",
     "output_type": "error",
     "traceback": [
      "\u001b[1;31m---------------------------------------------------------------------------\u001b[0m",
      "\u001b[1;31mTypeError\u001b[0m                                 Traceback (most recent call last)",
      "Cell \u001b[1;32mIn[20], line 3\u001b[0m\n\u001b[0;32m      1\u001b[0m simple_tuple \u001b[38;5;241m=\u001b[39m (\u001b[38;5;124m\"\u001b[39m\u001b[38;5;124mitem1\u001b[39m\u001b[38;5;124m\"\u001b[39m, \u001b[38;5;241m2\u001b[39m, \u001b[38;5;124m'\u001b[39m\u001b[38;5;124mitem3\u001b[39m\u001b[38;5;124m'\u001b[39m, \u001b[38;5;241m4\u001b[39m)\n\u001b[1;32m----> 3\u001b[0m \u001b[43msimple_tuple\u001b[49m\u001b[43m[\u001b[49m\u001b[38;5;241;43m0\u001b[39;49m\u001b[43m]\u001b[49m \u001b[38;5;241m=\u001b[39m \u001b[38;5;124m\"\u001b[39m\u001b[38;5;124mitem0\u001b[39m\u001b[38;5;124m\"\u001b[39m\n",
      "\u001b[1;31mTypeError\u001b[0m: 'tuple' object does not support item assignment"
     ]
    }
   ],
   "source": [
    "simple_tuple = (\"item1\", 2, 'item3', 4)\n",
    "\n",
    "simple_tuple[0] = \"item0\""
   ]
  },
  {
   "cell_type": "code",
   "execution_count": null,
   "id": "da16d1bc-e9da-49d2-838b-42401cffd8ae",
   "metadata": {},
   "outputs": [],
   "source": []
  }
 ],
 "metadata": {
  "kernelspec": {
   "display_name": "Python 3 (ipykernel)",
   "language": "python",
   "name": "python3"
  },
  "language_info": {
   "codemirror_mode": {
    "name": "ipython",
    "version": 3
   },
   "file_extension": ".py",
   "mimetype": "text/x-python",
   "name": "python",
   "nbconvert_exporter": "python",
   "pygments_lexer": "ipython3",
   "version": "3.9.13"
  }
 },
 "nbformat": 4,
 "nbformat_minor": 5
}
