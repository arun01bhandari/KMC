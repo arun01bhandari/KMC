{
 "cells": [
  {
   "cell_type": "code",
   "execution_count": 1,
   "id": "f7a17ee8-8407-4515-8975-59550d50e0d2",
   "metadata": {},
   "outputs": [
    {
     "name": "stdout",
     "output_type": "stream",
     "text": [
      "('item1', 2, 'item3', 4)\n"
     ]
    }
   ],
   "source": [
    "simple_tuple = (\"item1\", 2, 'item3', 4)\n",
    "print(simple_tuple)"
   ]
  },
  {
   "cell_type": "code",
   "execution_count": 2,
   "id": "58d5947c-7042-403c-91c2-1ad1796be121",
   "metadata": {},
   "outputs": [
    {
     "name": "stdout",
     "output_type": "stream",
     "text": [
      "<class 'tuple'>\n"
     ]
    }
   ],
   "source": [
    "print(type(simple_tuple))"
   ]
  },
  {
   "cell_type": "code",
   "execution_count": 3,
   "id": "51fb0ba2-57ca-4586-817c-4538b462ff72",
   "metadata": {},
   "outputs": [
    {
     "name": "stdout",
     "output_type": "stream",
     "text": [
      "4\n"
     ]
    }
   ],
   "source": [
    "tuple_len = len(simple_tuple)\n",
    "print(tuple_len)"
   ]
  },
  {
   "cell_type": "code",
   "execution_count": null,
   "id": "addbdebe-9ba7-4ecc-92d9-57a30595735c",
   "metadata": {},
   "outputs": [],
   "source": []
  }
 ],
 "metadata": {
  "kernelspec": {
   "display_name": "Python 3 (ipykernel)",
   "language": "python",
   "name": "python3"
  },
  "language_info": {
   "codemirror_mode": {
    "name": "ipython",
    "version": 3
   },
   "file_extension": ".py",
   "mimetype": "text/x-python",
   "name": "python",
   "nbconvert_exporter": "python",
   "pygments_lexer": "ipython3",
   "version": "3.9.13"
  }
 },
 "nbformat": 4,
 "nbformat_minor": 5
}
