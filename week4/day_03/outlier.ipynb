{
 "cells": [
  {
   "cell_type": "markdown",
   "id": "b046eba9-8d37-44aa-916d-f57cbd30e7b3",
   "metadata": {},
   "source": [
    "**In this notebook we'll into the techniques on outlier detection.**\n",
    "We will learn\n",
    "-z score\n",
    "-Interquartile Range(IQR)\n",
    "-Box plot(from package seaborn)"
   ]
  },
  {
   "cell_type": "markdown",
   "id": "9235720b-0a56-40b3-bf16-746b7300c033",
   "metadata": {},
   "source": [
    "1.Outlier Detection using Z score\n",
    "-Z score for item x gives how many standard deviation it it away from the mean\n",
    "-As per Empirical Formula:\n",
    "i.68% of data points will be in the region of 1 standard deviation.\n",
    "ii.95% of data points will be in the region\n",
    "Z-score formula is given by: z = (x-mean)/SD\n",
    "where,\n",
    "-\\(z\\) represnets the z-score"
   ]
  },
  {
   "cell_type": "code",
   "execution_count": 1,
   "id": "b773d4b1-5de4-41a7-a57f-6a2d9796c5b9",
   "metadata": {},
   "outputs": [],
   "source": [
    "import numpy as np\n",
    "import matplotlib.pyplot as plt\n",
    "import seaborn as sns"
   ]
  },
  {
   "cell_type": "code",
   "execution_count": 2,
   "id": "33432362-ada3-48e5-bd25-ca27dee27037",
   "metadata": {},
   "outputs": [
    {
     "name": "stdout",
     "output_type": "stream",
     "text": [
      "[11, 10, 12, 14, 12, 15, 14, 13, 15, 102, 12, 14, 17, 19, 107, 10, 13, 12, 14, 12, 108, 12, 11, 14, 13, 15, 10, 15, 12, 10, 14, 13, 15, 10]\n"
     ]
    }
   ],
   "source": [
    "dataset = [11, 10, 12, 14, 12, 15, 14, 13, 15, 102, 12, 14, 17, 19, 107, 10, 13, 12, 14, 12, 108, 12, 11, 14, 13, 15, 10, 15, 12, 10, 14, 13, 15, 10]\n",
    "print(dataset)"
   ]
  },
  {
   "cell_type": "code",
   "execution_count": 3,
   "id": "3454f356-eefd-4244-9771-0a3b3d1df70e",
   "metadata": {},
   "outputs": [
    {
     "data": {
      "text/plain": [
       "<function matplotlib.pyplot.show(close=None, block=None)>"
      ]
     },
     "execution_count": 3,
     "metadata": {},
     "output_type": "execute_result"
    },
    {
     "data": {
      "image/png": "[encoded data removed]",
      "text/plain": [
       "<Figure size 640x480 with 1 Axes>"
      ]
     },
     "metadata": {},
     "output_type": "display_data"
    }
   ],
   "source": [
    "sns.histplot(dataset, kde=True)\n",
    "plt.show"
   ]
  },
  {
   "cell_type": "markdown",
   "id": "c58f7164-e7af-4f79-91e1-737c606674e5",
   "metadata": {},
   "source": [
    "-Above distribution is not normally distributed.\n",
    "-It is Right"
   ]
  },
  {
   "cell_type": "code",
   "execution_count": 13,
   "id": "9ad9b9a7-fe7c-4fa6-8250-65c5260aa383",
   "metadata": {},
   "outputs": [
    {
     "name": "stdout",
     "output_type": "stream",
     "text": [
      "21.176470588235293\n"
     ]
    }
   ],
   "source": [
    "mean= np.mean(dataset)\n",
    "print(mean)"
   ]
  },
  {
   "cell_type": "code",
   "execution_count": 14,
   "id": "ea4fe48b-11a2-40c5-bf01-d6b2884524eb",
   "metadata": {},
   "outputs": [
    {
     "name": "stdout",
     "output_type": "stream",
     "text": [
      "26.37230118696876\n"
     ]
    }
   ],
   "source": [
    "sd = np.std(dataset)\n",
    "print(sd)"
   ]
  },
  {
   "cell_type": "code",
   "execution_count": 16,
   "id": "9246a5e9-8a25-4094-9417-c7fa90d0713f",
   "metadata": {},
   "outputs": [
    {
     "name": "stdout",
     "output_type": "stream",
     "text": [
      "100.29337414914157\n"
     ]
    }
   ],
   "source": [
    "above = mean+3*sd\n",
    "print(above)"
   ]
  },
  {
   "cell_type": "code",
   "execution_count": 18,
   "id": "05126439-42d0-4b75-ae2d-1c0b6fd33742",
   "metadata": {},
   "outputs": [
    {
     "name": "stdout",
     "output_type": "stream",
     "text": [
      "-57.94043297267099\n"
     ]
    }
   ],
   "source": [
    "lower = mean-3*sd\n",
    "print(lower)"
   ]
  },
  {
   "cell_type": "code",
   "execution_count": 21,
   "id": "dcdb1cb2-f82e-49fe-81ef-721b5afec9d8",
   "metadata": {},
   "outputs": [
    {
     "name": "stdout",
     "output_type": "stream",
     "text": [
      "[11, 10, 12, 14, 12, 15, 14, 13, 15, 102, 12, 14, 17, 19, 107, 10, 13, 12, 14, 12, 108, 12, 11, 14, 13, 15, 10, 15, 12, 10, 14, 13, 15, 10]\n"
     ]
    }
   ],
   "source": [
    "for i in dataset:\n",
    "    z_score = [i-mean]/sd\n",
    "    if np.abs(z_score)"
   ]
  },
  {
   "cell_type": "markdown",
   "id": "158bf268-ea76-4aab-b485-faf156f0f1b1",
   "metadata": {},
   "source": [
    "IQR = Q3-Q1\n",
    "Lower Fence= Q1-1.5*IQR\n",
    "Upper Fence= Q3+1.5*IQR"
   ]
  },
  {
   "cell_type": "code",
   "execution_count": 22,
   "id": "151989f8-2739-40c3-a52b-2c28a9588264",
   "metadata": {},
   "outputs": [],
   "source": [
    "dataset = [11, 10, 12, 14, 12, 15, 14, 13, 15, 102, 12, 14, 17, 19, 107, 10, 13, 12, 14, 12, 108, 12, 11, 14, 13, 15, 10, 15, 12, 10, 14, 13, 15, 10]"
   ]
  },
  {
   "cell_type": "code",
   "execution_count": 23,
   "id": "e5cfc753-b82c-4765-be96-be06124b5797",
   "metadata": {},
   "outputs": [
    {
     "name": "stdout",
     "output_type": "stream",
     "text": [
      "12.0\n",
      "15.0\n"
     ]
    }
   ],
   "source": [
    "Q1 = np.percentile(dataset, 25)\n",
    "print(Q1)\n",
    "Q3 = np.percentile(dataset, 75)\n",
    "print(Q3)"
   ]
  },
  {
   "cell_type": "code",
   "execution_count": 25,
   "id": "df773f20-18e2-43ad-b3bc-816cc2ffccbd",
   "metadata": {},
   "outputs": [
    {
     "name": "stdout",
     "output_type": "stream",
     "text": [
      "3.0\n"
     ]
    }
   ],
   "source": [
    "IQR = Q3 - Q1\n",
    "print(IQR)"
   ]
  },
  {
   "cell_type": "code",
   "execution_count": 26,
   "id": "30948494-0aca-41b8-bef6-fe76913402e8",
   "metadata": {},
   "outputs": [
    {
     "name": "stdout",
     "output_type": "stream",
     "text": [
      "7.5\n",
      "19.5\n"
     ]
    }
   ],
   "source": [
    "lower_threshold = Q1 - 1.5 * IQR\n",
    "print(lower_threshold)\n",
    "upper_threshold = Q3 + 1.5 * IQR\n",
    "print(upper_threshold)"
   ]
  },
  {
   "cell_type": "code",
   "execution_count": 27,
   "id": "f1cf840b-097e-47b2-ac8e-5831f24b3588",
   "metadata": {},
   "outputs": [
    {
     "name": "stdout",
     "output_type": "stream",
     "text": [
      "[102, 107, 108]\n"
     ]
    }
   ],
   "source": [
    "outliers = [x for x in dataset if x < lower_threshold or x > upper_threshold]\n",
    "print(outliers)"
   ]
  },
  {
   "cell_type": "code",
   "execution_count": 1,
   "id": "849e149e-7532-450e-984c-edd05a7e8339",
   "metadata": {},
   "outputs": [
    {
     "name": "stdout",
     "output_type": "stream",
     "text": [
      "[0 2 2 4 4]\n"
     ]
    }
   ],
   "source": [
    "import numpy as np\n",
    "arr = np.array([1,1,2,2,3,3,3,3,4,4,4,4])\n",
    "print(np.bincount(arr))"
   ]
  },
  {
   "cell_type": "code",
   "execution_count": null,
   "id": "b26f5580-b636-4e9a-a5f4-31a8bb2c6410",
   "metadata": {},
   "outputs": [],
   "source": []
  }
 ],
 "metadata": {
  "kernelspec": {
   "display_name": "Python 3 (ipykernel)",
   "language": "python",
   "name": "python3"
  },
  "language_info": {
   "codemirror_mode": {
    "name": "ipython",
    "version": 3
   },
   "file_extension": ".py",
   "mimetype": "text/x-python",
   "name": "python",
   "nbconvert_exporter": "python",
   "pygments_lexer": "ipython3",
   "version": "3.9.13"
  }
 },
 "nbformat": 4,
 "nbformat_minor": 5
}
